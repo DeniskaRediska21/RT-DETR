{
 "cells": [
  {
   "cell_type": "code",
   "execution_count": 1,
   "metadata": {},
   "outputs": [
    {
     "name": "stdout",
     "output_type": "stream",
     "text": [
      "Requirement already satisfied: natsort in /home/user/anaconda3/envs/env_tensorflow/lib/python3.10/site-packages (8.4.0)\n",
      "Requirement already satisfied: tqdm in /home/user/anaconda3/envs/env_tensorflow/lib/python3.10/site-packages (4.66.1)\n",
      "Requirement already satisfied: transformers in /home/user/anaconda3/envs/env_tensorflow/lib/python3.10/site-packages (4.46.0)\n",
      "Requirement already satisfied: torch in /home/user/anaconda3/envs/env_tensorflow/lib/python3.10/site-packages (2.5.0)\n",
      "Requirement already satisfied: torchvision in /home/user/anaconda3/envs/env_tensorflow/lib/python3.10/site-packages (0.20.0)\n",
      "Requirement already satisfied: filelock in /home/user/anaconda3/envs/env_tensorflow/lib/python3.10/site-packages (from transformers) (3.16.1)\n",
      "Requirement already satisfied: huggingface-hub<1.0,>=0.23.2 in /home/user/anaconda3/envs/env_tensorflow/lib/python3.10/site-packages (from transformers) (0.26.2)\n",
      "Requirement already satisfied: numpy>=1.17 in /home/user/anaconda3/envs/env_tensorflow/lib/python3.10/site-packages (from transformers) (1.25.2)\n",
      "Requirement already satisfied: packaging>=20.0 in /home/user/anaconda3/envs/env_tensorflow/lib/python3.10/site-packages (from transformers) (23.2)\n",
      "Requirement already satisfied: pyyaml>=5.1 in /home/user/anaconda3/envs/env_tensorflow/lib/python3.10/site-packages (from transformers) (6.0.1)\n",
      "Requirement already satisfied: regex!=2019.12.17 in /home/user/anaconda3/envs/env_tensorflow/lib/python3.10/site-packages (from transformers) (2024.9.11)\n",
      "Requirement already satisfied: requests in /home/user/anaconda3/envs/env_tensorflow/lib/python3.10/site-packages (from transformers) (2.31.0)\n",
      "Requirement already satisfied: safetensors>=0.4.1 in /home/user/anaconda3/envs/env_tensorflow/lib/python3.10/site-packages (from transformers) (0.4.5)\n",
      "Requirement already satisfied: tokenizers<0.21,>=0.20 in /home/user/anaconda3/envs/env_tensorflow/lib/python3.10/site-packages (from transformers) (0.20.1)\n",
      "Requirement already satisfied: typing-extensions>=4.8.0 in /home/user/anaconda3/envs/env_tensorflow/lib/python3.10/site-packages (from torch) (4.8.0)\n",
      "Requirement already satisfied: networkx in /home/user/anaconda3/envs/env_tensorflow/lib/python3.10/site-packages (from torch) (3.2.1)\n",
      "Requirement already satisfied: jinja2 in /home/user/anaconda3/envs/env_tensorflow/lib/python3.10/site-packages (from torch) (3.1.2)\n",
      "Requirement already satisfied: fsspec in /home/user/anaconda3/envs/env_tensorflow/lib/python3.10/site-packages (from torch) (2024.10.0)\n",
      "Requirement already satisfied: nvidia-cuda-nvrtc-cu12==12.4.127 in /home/user/anaconda3/envs/env_tensorflow/lib/python3.10/site-packages (from torch) (12.4.127)\n",
      "Requirement already satisfied: nvidia-cuda-runtime-cu12==12.4.127 in /home/user/anaconda3/envs/env_tensorflow/lib/python3.10/site-packages (from torch) (12.4.127)\n",
      "Requirement already satisfied: nvidia-cuda-cupti-cu12==12.4.127 in /home/user/anaconda3/envs/env_tensorflow/lib/python3.10/site-packages (from torch) (12.4.127)\n",
      "Requirement already satisfied: nvidia-cudnn-cu12==9.1.0.70 in /home/user/anaconda3/envs/env_tensorflow/lib/python3.10/site-packages (from torch) (9.1.0.70)\n",
      "Requirement already satisfied: nvidia-cublas-cu12==12.4.5.8 in /home/user/anaconda3/envs/env_tensorflow/lib/python3.10/site-packages (from torch) (12.4.5.8)\n",
      "Requirement already satisfied: nvidia-cufft-cu12==11.2.1.3 in /home/user/anaconda3/envs/env_tensorflow/lib/python3.10/site-packages (from torch) (11.2.1.3)\n",
      "Requirement already satisfied: nvidia-curand-cu12==10.3.5.147 in /home/user/anaconda3/envs/env_tensorflow/lib/python3.10/site-packages (from torch) (10.3.5.147)\n",
      "Requirement already satisfied: nvidia-cusolver-cu12==11.6.1.9 in /home/user/anaconda3/envs/env_tensorflow/lib/python3.10/site-packages (from torch) (11.6.1.9)\n",
      "Requirement already satisfied: nvidia-cusparse-cu12==12.3.1.170 in /home/user/anaconda3/envs/env_tensorflow/lib/python3.10/site-packages (from torch) (12.3.1.170)\n",
      "Requirement already satisfied: nvidia-nccl-cu12==2.21.5 in /home/user/anaconda3/envs/env_tensorflow/lib/python3.10/site-packages (from torch) (2.21.5)\n",
      "Requirement already satisfied: nvidia-nvtx-cu12==12.4.127 in /home/user/anaconda3/envs/env_tensorflow/lib/python3.10/site-packages (from torch) (12.4.127)\n",
      "Requirement already satisfied: nvidia-nvjitlink-cu12==12.4.127 in /home/user/anaconda3/envs/env_tensorflow/lib/python3.10/site-packages (from torch) (12.4.127)\n",
      "Requirement already satisfied: triton==3.1.0 in /home/user/anaconda3/envs/env_tensorflow/lib/python3.10/site-packages (from torch) (3.1.0)\n",
      "Requirement already satisfied: sympy==1.13.1 in /home/user/anaconda3/envs/env_tensorflow/lib/python3.10/site-packages (from torch) (1.13.1)\n",
      "Requirement already satisfied: mpmath<1.4,>=1.1.0 in /home/user/anaconda3/envs/env_tensorflow/lib/python3.10/site-packages (from sympy==1.13.1->torch) (1.3.0)\n",
      "Requirement already satisfied: pillow!=8.3.*,>=5.3.0 in /home/user/anaconda3/envs/env_tensorflow/lib/python3.10/site-packages (from torchvision) (10.0.1)\n",
      "Requirement already satisfied: MarkupSafe>=2.0 in /home/user/anaconda3/envs/env_tensorflow/lib/python3.10/site-packages (from jinja2->torch) (2.1.3)\n",
      "Requirement already satisfied: charset-normalizer<4,>=2 in /home/user/anaconda3/envs/env_tensorflow/lib/python3.10/site-packages (from requests->transformers) (3.3.2)\n",
      "Requirement already satisfied: idna<4,>=2.5 in /home/user/anaconda3/envs/env_tensorflow/lib/python3.10/site-packages (from requests->transformers) (3.4)\n",
      "Requirement already satisfied: urllib3<3,>=1.21.1 in /home/user/anaconda3/envs/env_tensorflow/lib/python3.10/site-packages (from requests->transformers) (2.1.0)\n",
      "Requirement already satisfied: certifi>=2017.4.17 in /home/user/anaconda3/envs/env_tensorflow/lib/python3.10/site-packages (from requests->transformers) (2023.7.22)\n",
      "\n",
      "\u001b[1m[\u001b[0m\u001b[34;49mnotice\u001b[0m\u001b[1;39;49m]\u001b[0m\u001b[39;49m A new release of pip is available: \u001b[0m\u001b[31;49m24.2\u001b[0m\u001b[39;49m -> \u001b[0m\u001b[32;49m24.3.1\u001b[0m\n",
      "\u001b[1m[\u001b[0m\u001b[34;49mnotice\u001b[0m\u001b[1;39;49m]\u001b[0m\u001b[39;49m To update, run: \u001b[0m\u001b[32;49mpip install --upgrade pip\u001b[0m\n",
      "Note: you may need to restart the kernel to use updated packages.\n"
     ]
    }
   ],
   "source": [
    "%pip install natsort tqdm transformers torch torchvision"
   ]
  },
  {
   "cell_type": "code",
   "execution_count": 2,
   "metadata": {},
   "outputs": [
    {
     "name": "stderr",
     "output_type": "stream",
     "text": [
      "2024-10-30 13:54:54.354278: W tensorflow/stream_executor/platform/default/dso_loader.cc:64] Could not load dynamic library 'libcudart.so.11.0'; dlerror: libcudart.so.11.0: cannot open shared object file: No such file or directory\n",
      "2024-10-30 13:54:54.354297: I tensorflow/stream_executor/cuda/cudart_stub.cc:29] Ignore above cudart dlerror if you do not have a GPU set up on your machine.\n"
     ]
    }
   ],
   "source": [
    "import os\n",
    "from pathlib import Path\n",
    "import glob\n",
    "import re\n",
    "import shutil\n",
    "\n",
    "from transformers import CLIPProcessor, CLIPModel\n",
    "import torch\n",
    "from torchvision.io import decode_image\n",
    "from natsort import natsorted\n",
    "from tqdm import tqdm"
   ]
  },
  {
   "cell_type": "code",
   "execution_count": 3,
   "metadata": {},
   "outputs": [],
   "source": [
    "DATASET_PATH = os.path.join(os.sep, 'ml', 'LIZA_dataset', 'original_split', '**')\n",
    "POSITIVE_PATH = os.path.join(os.sep, 'ml', 'LIZA_dataset', 'forest')\n",
    "NEGATIVE_PATH = os.path.join(os.sep, 'ml', 'LIZA_dataset', 'urban')  # for visual control\n",
    "\n",
    "for path in (POSITIVE_PATH, NEGATIVE_PATH):\n",
    "    if os.path.isdir(path):\n",
    "        shutil.rmtree(path)\n",
    "    os.mkdir(path)\n",
    "    \n",
    "POSITIVE_LABELS = ['forest', 'steppe', 'fields', 'snowy forest', 'snowy steppe', 'woods', 'taiga', 'few cars', 'road', \n",
    "                   'many green trees', 'big trees', 'grass', 'bareland', 'grassland', 'farmland', 'river', 'lake', \n",
    "                   'hills', 'highway', 'runway', 'tree', 'meadow', 'swamp', 'bushes', 'dead bushes', 'dead tree', \n",
    "                   'person', 'pedestrian', 'human', 'shack', 'parking lot', 'suburban area']\n",
    "NEGATIVE_LABELS = ['city', 'town', 'several buildings', 'many buildings', 'aiport', 'many houses', 'terminal', \n",
    "                   'building', 'house', 'urban area']\n",
    "LABELS = POSITIVE_LABELS + NEGATIVE_LABELS\n",
    "TEXT_QUERIES = [f'an aerial photograph of {label}' for label in LABELS]"
   ]
  },
  {
   "cell_type": "code",
   "execution_count": 4,
   "metadata": {},
   "outputs": [],
   "source": [
    "device = torch.device('cuda')\n",
    "# device = torch.device('cpu')\n",
    "\n",
    "model = CLIPModel.from_pretrained(\"flax-community/clip-rsicd\").to(device)\n",
    "processor = CLIPProcessor.from_pretrained(\"flax-community/clip-rsicd\")"
   ]
  },
  {
   "cell_type": "code",
   "execution_count": 5,
   "metadata": {},
   "outputs": [
    {
     "data": {
      "text/plain": [
       "(265277, 265277)"
      ]
     },
     "execution_count": 5,
     "metadata": {},
     "output_type": "execute_result"
    }
   ],
   "source": [
    "images = [file for file in glob.glob(os.path.join(DATASET_PATH, '*'), recursive=True) if re.match(r'(.*\\.jpg)', file)]\n",
    "annotations = [file for file in glob.glob(os.path.join(DATASET_PATH, '*'), recursive=True) if re.match(r'(.*\\.txt)', file)]\n",
    "\n",
    "images = natsorted(images)\n",
    "annotations = natsorted(annotations)\n",
    "\n",
    "len(images), len(annotations)"
   ]
  },
  {
   "cell_type": "code",
   "execution_count": 6,
   "metadata": {},
   "outputs": [
    {
     "name": "stderr",
     "output_type": "stream",
     "text": [
      "265277it [1:09:43, 63.42it/s]\n"
     ]
    }
   ],
   "source": [
    "stems  = []\n",
    "for image, annotation in tqdm(zip(images, annotations)):\n",
    "    if Path(image).stem != Path(annotation).stem:\n",
    "        raise ValueError('Images and annotations indices do not match')\n",
    "    \n",
    "    T = decode_image(image)\n",
    "    \n",
    "    X = processor(text=TEXT_QUERIES, images=T, return_tensors='pt', padding=True)\n",
    "    Y = model(**X.to(device))\n",
    "    \n",
    "    label = LABELS[torch.argmax(Y.logits_per_image.softmax(dim=1).cpu().detach()[0])]\n",
    "    if label in POSITIVE_LABELS:\n",
    "        for file in (image, annotation):\n",
    "            shutil.copy(file, POSITIVE_PATH)\n",
    "    else:\n",
    "        for file in (image, annotation):\n",
    "            shutil.copy(file, NEGATIVE_PATH)"
   ]
  }
 ],
 "metadata": {
  "kernelspec": {
   "display_name": "env_tensorflow",
   "language": "python",
   "name": "env_tensorflow"
  },
  "language_info": {
   "codemirror_mode": {
    "name": "ipython",
    "version": 3
   },
   "file_extension": ".py",
   "mimetype": "text/x-python",
   "name": "python",
   "nbconvert_exporter": "python",
   "pygments_lexer": "ipython3",
   "version": "3.10.13"
  }
 },
 "nbformat": 4,
 "nbformat_minor": 2
}
