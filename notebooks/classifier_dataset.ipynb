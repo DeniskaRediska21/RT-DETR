{
 "cells": [
  {
   "cell_type": "code",
   "execution_count": 54,
   "metadata": {},
   "outputs": [
    {
     "name": "stdout",
     "output_type": "stream",
     "text": [
      "Requirement already satisfied: mlflow in /home/user/anaconda3/envs/env_tensorflow/lib/python3.10/site-packages (2.17.2)\n",
      "Requirement already satisfied: mlflow-skinny==2.17.2 in /home/user/anaconda3/envs/env_tensorflow/lib/python3.10/site-packages (from mlflow) (2.17.2)\n",
      "Requirement already satisfied: Flask<4 in /home/user/anaconda3/envs/env_tensorflow/lib/python3.10/site-packages (from mlflow) (3.0.3)\n",
      "Requirement already satisfied: alembic!=1.10.0,<2 in /home/user/anaconda3/envs/env_tensorflow/lib/python3.10/site-packages (from mlflow) (1.13.3)\n",
      "Requirement already satisfied: docker<8,>=4.0.0 in /home/user/anaconda3/envs/env_tensorflow/lib/python3.10/site-packages (from mlflow) (7.1.0)\n",
      "Requirement already satisfied: graphene<4 in /home/user/anaconda3/envs/env_tensorflow/lib/python3.10/site-packages (from mlflow) (3.4.1)\n",
      "Requirement already satisfied: markdown<4,>=3.3 in /home/user/anaconda3/envs/env_tensorflow/lib/python3.10/site-packages (from mlflow) (3.5.1)\n",
      "Requirement already satisfied: matplotlib<4 in /home/user/anaconda3/envs/env_tensorflow/lib/python3.10/site-packages (from mlflow) (3.7.3)\n",
      "Requirement already satisfied: numpy<3 in /home/user/anaconda3/envs/env_tensorflow/lib/python3.10/site-packages (from mlflow) (1.25.2)\n",
      "Requirement already satisfied: pandas<3 in /home/user/anaconda3/envs/env_tensorflow/lib/python3.10/site-packages (from mlflow) (2.1.1)\n",
      "Requirement already satisfied: pyarrow<18,>=4.0.0 in /home/user/anaconda3/envs/env_tensorflow/lib/python3.10/site-packages (from mlflow) (17.0.0)\n",
      "Requirement already satisfied: scikit-learn<2 in /home/user/anaconda3/envs/env_tensorflow/lib/python3.10/site-packages (from mlflow) (1.3.1)\n",
      "Requirement already satisfied: scipy<2 in /home/user/anaconda3/envs/env_tensorflow/lib/python3.10/site-packages (from mlflow) (1.11.3)\n",
      "Requirement already satisfied: sqlalchemy<3,>=1.4.0 in /home/user/anaconda3/envs/env_tensorflow/lib/python3.10/site-packages (from mlflow) (2.0.36)\n",
      "Requirement already satisfied: Jinja2<4,>=2.11 in /home/user/anaconda3/envs/env_tensorflow/lib/python3.10/site-packages (from mlflow) (3.1.2)\n",
      "Requirement already satisfied: gunicorn<24 in /home/user/anaconda3/envs/env_tensorflow/lib/python3.10/site-packages (from mlflow) (23.0.0)\n",
      "Requirement already satisfied: cachetools<6,>=5.0.0 in /home/user/anaconda3/envs/env_tensorflow/lib/python3.10/site-packages (from mlflow-skinny==2.17.2->mlflow) (5.3.2)\n",
      "Requirement already satisfied: click<9,>=7.0 in /home/user/anaconda3/envs/env_tensorflow/lib/python3.10/site-packages (from mlflow-skinny==2.17.2->mlflow) (8.1.7)\n",
      "Requirement already satisfied: cloudpickle<4 in /home/user/anaconda3/envs/env_tensorflow/lib/python3.10/site-packages (from mlflow-skinny==2.17.2->mlflow) (3.1.0)\n",
      "Requirement already satisfied: databricks-sdk<1,>=0.20.0 in /home/user/anaconda3/envs/env_tensorflow/lib/python3.10/site-packages (from mlflow-skinny==2.17.2->mlflow) (0.36.0)\n",
      "Requirement already satisfied: gitpython<4,>=3.1.9 in /home/user/anaconda3/envs/env_tensorflow/lib/python3.10/site-packages (from mlflow-skinny==2.17.2->mlflow) (3.1.40)\n",
      "Requirement already satisfied: importlib-metadata!=4.7.0,<9,>=3.7.0 in /home/user/anaconda3/envs/env_tensorflow/lib/python3.10/site-packages (from mlflow-skinny==2.17.2->mlflow) (8.4.0)\n",
      "Requirement already satisfied: opentelemetry-api<3,>=1.9.0 in /home/user/anaconda3/envs/env_tensorflow/lib/python3.10/site-packages (from mlflow-skinny==2.17.2->mlflow) (1.27.0)\n",
      "Requirement already satisfied: opentelemetry-sdk<3,>=1.9.0 in /home/user/anaconda3/envs/env_tensorflow/lib/python3.10/site-packages (from mlflow-skinny==2.17.2->mlflow) (1.27.0)\n",
      "Requirement already satisfied: packaging<25 in /home/user/anaconda3/envs/env_tensorflow/lib/python3.10/site-packages (from mlflow-skinny==2.17.2->mlflow) (23.2)\n",
      "Requirement already satisfied: protobuf<6,>=3.12.0 in /home/user/anaconda3/envs/env_tensorflow/lib/python3.10/site-packages (from mlflow-skinny==2.17.2->mlflow) (3.19.6)\n",
      "Requirement already satisfied: pyyaml<7,>=5.1 in /home/user/anaconda3/envs/env_tensorflow/lib/python3.10/site-packages (from mlflow-skinny==2.17.2->mlflow) (6.0.1)\n",
      "Requirement already satisfied: requests<3,>=2.17.3 in /home/user/anaconda3/envs/env_tensorflow/lib/python3.10/site-packages (from mlflow-skinny==2.17.2->mlflow) (2.31.0)\n",
      "Requirement already satisfied: sqlparse<1,>=0.4.0 in /home/user/anaconda3/envs/env_tensorflow/lib/python3.10/site-packages (from mlflow-skinny==2.17.2->mlflow) (0.5.1)\n",
      "Requirement already satisfied: Mako in /home/user/anaconda3/envs/env_tensorflow/lib/python3.10/site-packages (from alembic!=1.10.0,<2->mlflow) (1.3.6)\n",
      "Requirement already satisfied: typing-extensions>=4 in /home/user/anaconda3/envs/env_tensorflow/lib/python3.10/site-packages (from alembic!=1.10.0,<2->mlflow) (4.8.0)\n",
      "Requirement already satisfied: urllib3>=1.26.0 in /home/user/anaconda3/envs/env_tensorflow/lib/python3.10/site-packages (from docker<8,>=4.0.0->mlflow) (2.1.0)\n",
      "Requirement already satisfied: Werkzeug>=3.0.0 in /home/user/anaconda3/envs/env_tensorflow/lib/python3.10/site-packages (from Flask<4->mlflow) (3.0.1)\n",
      "Requirement already satisfied: itsdangerous>=2.1.2 in /home/user/anaconda3/envs/env_tensorflow/lib/python3.10/site-packages (from Flask<4->mlflow) (2.2.0)\n",
      "Requirement already satisfied: blinker>=1.6.2 in /home/user/anaconda3/envs/env_tensorflow/lib/python3.10/site-packages (from Flask<4->mlflow) (1.8.2)\n",
      "Requirement already satisfied: graphql-core<3.3,>=3.1 in /home/user/anaconda3/envs/env_tensorflow/lib/python3.10/site-packages (from graphene<4->mlflow) (3.2.5)\n",
      "Requirement already satisfied: graphql-relay<3.3,>=3.1 in /home/user/anaconda3/envs/env_tensorflow/lib/python3.10/site-packages (from graphene<4->mlflow) (3.2.0)\n",
      "Requirement already satisfied: python-dateutil<3,>=2.7.0 in /home/user/anaconda3/envs/env_tensorflow/lib/python3.10/site-packages (from graphene<4->mlflow) (2.8.2)\n",
      "Requirement already satisfied: MarkupSafe>=2.0 in /home/user/anaconda3/envs/env_tensorflow/lib/python3.10/site-packages (from Jinja2<4,>=2.11->mlflow) (2.1.3)\n",
      "Requirement already satisfied: contourpy>=1.0.1 in /home/user/anaconda3/envs/env_tensorflow/lib/python3.10/site-packages (from matplotlib<4->mlflow) (1.2.0)\n",
      "Requirement already satisfied: cycler>=0.10 in /home/user/anaconda3/envs/env_tensorflow/lib/python3.10/site-packages (from matplotlib<4->mlflow) (0.12.1)\n",
      "Requirement already satisfied: fonttools>=4.22.0 in /home/user/anaconda3/envs/env_tensorflow/lib/python3.10/site-packages (from matplotlib<4->mlflow) (4.44.0)\n",
      "Requirement already satisfied: kiwisolver>=1.0.1 in /home/user/anaconda3/envs/env_tensorflow/lib/python3.10/site-packages (from matplotlib<4->mlflow) (1.4.5)\n",
      "Requirement already satisfied: pillow>=6.2.0 in /home/user/anaconda3/envs/env_tensorflow/lib/python3.10/site-packages (from matplotlib<4->mlflow) (10.0.1)\n",
      "Requirement already satisfied: pyparsing>=2.3.1 in /home/user/anaconda3/envs/env_tensorflow/lib/python3.10/site-packages (from matplotlib<4->mlflow) (3.1.1)\n",
      "Requirement already satisfied: pytz>=2020.1 in /home/user/anaconda3/envs/env_tensorflow/lib/python3.10/site-packages (from pandas<3->mlflow) (2023.3.post1)\n",
      "Requirement already satisfied: tzdata>=2022.1 in /home/user/anaconda3/envs/env_tensorflow/lib/python3.10/site-packages (from pandas<3->mlflow) (2023.3)\n",
      "Requirement already satisfied: joblib>=1.1.1 in /home/user/anaconda3/envs/env_tensorflow/lib/python3.10/site-packages (from scikit-learn<2->mlflow) (1.3.2)\n",
      "Requirement already satisfied: threadpoolctl>=2.0.0 in /home/user/anaconda3/envs/env_tensorflow/lib/python3.10/site-packages (from scikit-learn<2->mlflow) (3.2.0)\n",
      "Requirement already satisfied: greenlet!=0.4.17 in /home/user/anaconda3/envs/env_tensorflow/lib/python3.10/site-packages (from sqlalchemy<3,>=1.4.0->mlflow) (3.1.1)\n",
      "Requirement already satisfied: google-auth~=2.0 in /home/user/anaconda3/envs/env_tensorflow/lib/python3.10/site-packages (from databricks-sdk<1,>=0.20.0->mlflow-skinny==2.17.2->mlflow) (2.23.4)\n",
      "Requirement already satisfied: gitdb<5,>=4.0.1 in /home/user/anaconda3/envs/env_tensorflow/lib/python3.10/site-packages (from gitpython<4,>=3.1.9->mlflow-skinny==2.17.2->mlflow) (4.0.11)\n",
      "Requirement already satisfied: zipp>=0.5 in /home/user/anaconda3/envs/env_tensorflow/lib/python3.10/site-packages (from importlib-metadata!=4.7.0,<9,>=3.7.0->mlflow-skinny==2.17.2->mlflow) (3.20.2)\n",
      "Requirement already satisfied: deprecated>=1.2.6 in /home/user/anaconda3/envs/env_tensorflow/lib/python3.10/site-packages (from opentelemetry-api<3,>=1.9.0->mlflow-skinny==2.17.2->mlflow) (1.2.14)\n",
      "Requirement already satisfied: opentelemetry-semantic-conventions==0.48b0 in /home/user/anaconda3/envs/env_tensorflow/lib/python3.10/site-packages (from opentelemetry-sdk<3,>=1.9.0->mlflow-skinny==2.17.2->mlflow) (0.48b0)\n",
      "Requirement already satisfied: six>=1.5 in /home/user/anaconda3/envs/env_tensorflow/lib/python3.10/site-packages (from python-dateutil<3,>=2.7.0->graphene<4->mlflow) (1.16.0)\n",
      "Requirement already satisfied: charset-normalizer<4,>=2 in /home/user/anaconda3/envs/env_tensorflow/lib/python3.10/site-packages (from requests<3,>=2.17.3->mlflow-skinny==2.17.2->mlflow) (3.3.2)\n",
      "Requirement already satisfied: idna<4,>=2.5 in /home/user/anaconda3/envs/env_tensorflow/lib/python3.10/site-packages (from requests<3,>=2.17.3->mlflow-skinny==2.17.2->mlflow) (3.4)\n",
      "Requirement already satisfied: certifi>=2017.4.17 in /home/user/anaconda3/envs/env_tensorflow/lib/python3.10/site-packages (from requests<3,>=2.17.3->mlflow-skinny==2.17.2->mlflow) (2023.7.22)\n",
      "Requirement already satisfied: wrapt<2,>=1.10 in /home/user/anaconda3/envs/env_tensorflow/lib/python3.10/site-packages (from deprecated>=1.2.6->opentelemetry-api<3,>=1.9.0->mlflow-skinny==2.17.2->mlflow) (1.16.0)\n",
      "Requirement already satisfied: smmap<6,>=3.0.1 in /home/user/anaconda3/envs/env_tensorflow/lib/python3.10/site-packages (from gitdb<5,>=4.0.1->gitpython<4,>=3.1.9->mlflow-skinny==2.17.2->mlflow) (5.0.1)\n",
      "Requirement already satisfied: pyasn1-modules>=0.2.1 in /home/user/anaconda3/envs/env_tensorflow/lib/python3.10/site-packages (from google-auth~=2.0->databricks-sdk<1,>=0.20.0->mlflow-skinny==2.17.2->mlflow) (0.3.0)\n",
      "Requirement already satisfied: rsa<5,>=3.1.4 in /home/user/anaconda3/envs/env_tensorflow/lib/python3.10/site-packages (from google-auth~=2.0->databricks-sdk<1,>=0.20.0->mlflow-skinny==2.17.2->mlflow) (4.9)\n",
      "Requirement already satisfied: pyasn1<0.6.0,>=0.4.6 in /home/user/anaconda3/envs/env_tensorflow/lib/python3.10/site-packages (from pyasn1-modules>=0.2.1->google-auth~=2.0->databricks-sdk<1,>=0.20.0->mlflow-skinny==2.17.2->mlflow) (0.5.0)\n",
      "\n",
      "\u001b[1m[\u001b[0m\u001b[34;49mnotice\u001b[0m\u001b[1;39;49m]\u001b[0m\u001b[39;49m A new release of pip is available: \u001b[0m\u001b[31;49m24.2\u001b[0m\u001b[39;49m -> \u001b[0m\u001b[32;49m24.3.1\u001b[0m\n",
      "\u001b[1m[\u001b[0m\u001b[34;49mnotice\u001b[0m\u001b[1;39;49m]\u001b[0m\u001b[39;49m To update, run: \u001b[0m\u001b[32;49mpip install --upgrade pip\u001b[0m\n",
      "Note: you may need to restart the kernel to use updated packages.\n"
     ]
    }
   ],
   "source": [
    "%pip install mlflow"
   ]
  },
  {
   "cell_type": "code",
   "execution_count": 55,
   "metadata": {},
   "outputs": [],
   "source": [
    "import os\n",
    "from pathlib import Path\n",
    "import glob\n",
    "import re\n",
    "import shutil\n",
    "from random import shuffle\n",
    "\n",
    "import torch\n",
    "from torchvision.ops import box_iou\n",
    "from torchvision.io import decode_image, write_jpeg\n",
    "from natsort import natsorted\n",
    "from tqdm import tqdm\n",
    "\n",
    "import sys  \n",
    "sys.path.insert(1, '..')\n",
    "from utils import get_model\n",
    "from utils.NMS import remove_overlaping"
   ]
  },
  {
   "cell_type": "code",
   "execution_count": 56,
   "metadata": {},
   "outputs": [],
   "source": [
    "ORIGINAL_DATASET = os.path.join(os.sep, 'ml', 'LIZA_dataset', 'original_split', '**')\n",
    "DATASET = os.path.join(os.sep, 'ml', 'LIZA_dataset', 'classifier')\n",
    "HUMAN = os.path.join(os.sep, 'ml', 'LIZA_dataset', 'classifier', 'human')\n",
    "NOT_HUMAN = os.path.join(os.sep, 'ml', 'LIZA_dataset', 'classifier', 'not-human')\n",
    "\n",
    "if os.path.isdir(DATASET):\n",
    "    shutil.rmtree(DATASET)\n",
    "[os.mkdir(dir) for dir in (DATASET, HUMAN, NOT_HUMAN)]\n",
    "\n",
    "INFERENCE_SIZE = 640\n",
    "AREA_THRESHOLD = 2800\n",
    "THRESHOLD = 0.25\n",
    "NMS_IOU_TRESHOLD = 0.2\n",
    "RATIO_THRESHOLD = 10.\n",
    "\n",
    "\n",
    "DEVICE = 'cpu'\n",
    "MLFLOW_URI = 'http://spbhws381-ubuntu.geoscan.lan:5000'\n",
    "PROJECT_NAME = 'LIZA'\n",
    "MODEL_NAME_VAL = 'LIZA-detector@trained_detr_visdrone'"
   ]
  },
  {
   "cell_type": "code",
   "execution_count": 57,
   "metadata": {},
   "outputs": [
    {
     "data": {
      "text/plain": [
       "(118717, 118717)"
      ]
     },
     "execution_count": 57,
     "metadata": {},
     "output_type": "execute_result"
    }
   ],
   "source": [
    "images = [file for file in glob.glob(os.path.join(ORIGINAL_DATASET, '*'), recursive=True) if re.match(r'(.*\\.jpg)', file)]\n",
    "annotations = [file for file in glob.glob(os.path.join(ORIGINAL_DATASET, '*'), recursive=True) if re.match(r'(.*\\.txt)', file)]\n",
    "\n",
    "images = natsorted(images)\n",
    "annotations = natsorted(annotations)\n",
    "\n",
    "len(images), len(annotations)"
   ]
  },
  {
   "cell_type": "code",
   "execution_count": 58,
   "metadata": {},
   "outputs": [
    {
     "name": "stderr",
     "output_type": "stream",
     "text": [
      "2024/11/02 16:22:57 WARNING mlflow.transformers.model_io: Could not specify device parameter for this pipeline type.Falling back to loading the model with the default device.\n"
     ]
    }
   ],
   "source": [
    "mlflow_uri = MLFLOW_URI\n",
    "project_name = PROJECT_NAME\n",
    "\n",
    "pipeline_ = get_model(mlflow_uri, project_name, MODEL_NAME_VAL)\n",
    "\n",
    "model, image_processor = pipeline_.model, pipeline_.image_processor\n",
    "model = model.to(DEVICE)\n",
    "\n",
    "image_processor.do_resize = False\n",
    "image_processor.do_normalize = False\n",
    "image_processor.do_pad = False"
   ]
  },
  {
   "cell_type": "code",
   "execution_count": 52,
   "metadata": {},
   "outputs": [
    {
     "name": "stderr",
     "output_type": "stream",
     "text": [
      "9601it [1:02:53,  2.19s/it]"
     ]
    }
   ],
   "source": [
    "humans_amount = 0\n",
    "not_humans = []\n",
    "\n",
    "for image, annotation in tqdm(zip(images, annotations)):\n",
    "    if Path(image).stem != Path(annotation).stem:\n",
    "        raise ValueError('Images and annotations indices do not match')\n",
    "    stem = Path(image).stem\n",
    "\n",
    "    T = decode_image(image)\n",
    "    _, height, width = T.shape\n",
    "\n",
    "    \n",
    "    with open(annotation) as file:\n",
    "        labels = file.read().splitlines()\n",
    "\n",
    "    bboxes = torch.empty((len(labels), 4), dtype=torch.float32)\n",
    "    for i in range(len(labels)):\n",
    "        if not labels[i]:\n",
    "            continue\n",
    "            \n",
    "        _, bbox_x, bbox_y, bbox_w, bbox_h = labels[i].split(' ')\n",
    "        bbox_x, bbox_y, bbox_w, bbox_h = list(map(float, (bbox_x, bbox_y, bbox_w, bbox_h)))\n",
    "        \n",
    "        bbox_l = bbox_x - bbox_w / 2  # from center coordinate to left\n",
    "        bbox_t = bbox_y - bbox_h / 2  # from center coordinate to top\n",
    "        bbox_r = bbox_x + bbox_w / 2  # from center coordinate to left\n",
    "        bbox_b = bbox_y + bbox_h / 2  # from center coordinate to top\n",
    "        bbox = torch.as_tensor((bbox_l * width, bbox_t * height, bbox_r * width, bbox_b * height))\n",
    "        \n",
    "        w, h = bbox[2] - bbox[0], bbox[3] - bbox[1]\n",
    "        if w <= 0 or h <= 0 or w * h <= AREA_THRESHOLD:\n",
    "            continue\n",
    "            \n",
    "        bboxes[i] = bbox\n",
    "        xmin, ymin, xmax, ymax = bbox.clone().to(torch.int32).detach()\n",
    "        xmin, ymin, xmax, ymax = xmin.item(), ymin.item(), xmax.item(), ymax.item()\n",
    "        \n",
    "        path = os.path.join(HUMAN, f'{stem}_{i}.jpg')\n",
    "        \n",
    "        if xmin and ymin:\n",
    "            patch = T[:, ymin:ymax, xmin:xmax]\n",
    "        elif xmin:\n",
    "            patch = T[:, :ymax, xmin:xmax]\n",
    "        elif ymin:\n",
    "            patch = T[:, ymin:ymax, :xmax]\n",
    "        else:\n",
    "            patch = T[:, :ymax, :xmax]\n",
    "            \n",
    "        write_jpeg(patch, path)\n",
    "        \n",
    "        humans_amount +=1\n",
    "        \n",
    "    input = image_processor(images=T, return_tensors='pt')\n",
    "    input = {k: v[0] for k, v in input.items()}\n",
    "    input = input['pixel_values'].unsqueeze(0).to(DEVICE)\n",
    "    output = model(input)\n",
    "    postprocessed_outputs = image_processor.post_process_object_detection(\n",
    "        output,\n",
    "        target_sizes=[(INFERENCE_SIZE, INFERENCE_SIZE)],\n",
    "        threshold=THRESHOLD,\n",
    "    )\n",
    "    \n",
    "    postprocessed_output = remove_overlaping(postprocessed_outputs[0], NMS_IOU_TRESHOLD, ratio_tresh=RATIO_THRESHOLD)\n",
    "    for i, pred_bbox in enumerate(postprocessed_output['boxes']):\n",
    "        xmin, ymin, xmax, ymax = pred_bbox.clone().to(torch.int32).detach()\n",
    "        xmin, ymin, xmax, ymax = xmin.item(), ymin.item(), xmax.item(), ymax.item()\n",
    "        xmin, ymin = max(0, xmin), max(0, ymin)\n",
    "        xmax, ymax = min(xmax, INFERENCE_SIZE), min(ymax, INFERENCE_SIZE)\n",
    "        \n",
    "        iou = box_iou(bboxes, pred_bbox.unsqueeze(0))\n",
    "        if not iou[iou > NMS_IOU_TRESHOLD].any():\n",
    "            path = os.path.join(NOT_HUMAN, f'{stem}_{i}.jpg')\n",
    "            \n",
    "            if xmin and ymin:\n",
    "                patch = T[:, ymin:ymax, xmin:xmax]\n",
    "            elif xmin:\n",
    "                patch = T[:, :ymax, xmin:xmax]\n",
    "            elif ymin:\n",
    "                patch = T[:, ymin:ymax, :xmax]\n",
    "            else:\n",
    "                patch = T[:, :ymax, :xmax]\n",
    "                \n",
    "            write_jpeg(patch, path)\n",
    "            \n",
    "            not_humans.append(path)"
   ]
  },
  {
   "cell_type": "code",
   "execution_count": 53,
   "metadata": {},
   "outputs": [],
   "source": [
    "ratio = 1.  # how many times there should be not-humans compared to humans? e.g. ratio of 1. means there will be 1:1\n",
    "\n",
    "if len(not_humans) > humans_amount:\n",
    "    shuffle(not_humans)\n",
    "    \n",
    "    files = not_humans[:len(not_humans) - humans_amount]\n",
    "    for file in files:\n",
    "        if os.path.exists(file):\n",
    "            os.remove(file)"
   ]
  }
 ],
 "metadata": {
  "kernelspec": {
   "display_name": "env_tensorflow",
   "language": "python",
   "name": "env_tensorflow"
  },
  "language_info": {
   "codemirror_mode": {
    "name": "ipython",
    "version": 3
   },
   "file_extension": ".py",
   "mimetype": "text/x-python",
   "name": "python",
   "nbconvert_exporter": "python",
   "pygments_lexer": "ipython3",
   "version": "3.10.13"
  }
 },
 "nbformat": 4,
 "nbformat_minor": 2
}
