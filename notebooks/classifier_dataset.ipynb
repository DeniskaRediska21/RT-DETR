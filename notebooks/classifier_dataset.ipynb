{
 "cells": [
  {
   "cell_type": "code",
   "execution_count": 17,
   "metadata": {},
   "outputs": [],
   "source": [
    "import os\n",
    "from pathlib import Path\n",
    "import glob\n",
    "import re\n",
    "import shutil\n",
    "from random import shuffle\n",
    "\n",
    "import torch\n",
    "from torchvision.io import decode_image, write_jpeg\n",
    "from natsort import natsorted\n",
    "from tqdm import tqdm"
   ]
  },
  {
   "cell_type": "code",
   "execution_count": 18,
   "metadata": {},
   "outputs": [],
   "source": [
    "ORIGINAL_DATASET = os.path.join(os.sep, 'ml', 'LIZA_dataset', 'original_split', '**')\n",
    "DATASET = os.path.join(os.sep, 'ml', 'LIZA_dataset', 'classifier')\n",
    "HUMAN = os.path.join(os.sep, 'ml', 'LIZA_dataset', 'classifier', 'human')\n",
    "NOT_HUMAN = os.path.join(os.sep, 'ml', 'LIZA_dataset', 'classifier', 'not-human')\n",
    "\n",
    "if os.path.isdir(DATASET):\n",
    "    shutil.rmtree(DATASET)\n",
    "[os.mkdir(dir) for dir in (DATASET, HUMAN, NOT_HUMAN)]\n",
    "\n",
    "AREA_THRESHOLD = 2800"
   ]
  },
  {
   "cell_type": "code",
   "execution_count": 19,
   "metadata": {},
   "outputs": [
    {
     "data": {
      "text/plain": [
       "(2166633, 2168989)"
      ]
     },
     "execution_count": 19,
     "metadata": {},
     "output_type": "execute_result"
    }
   ],
   "source": [
    "images = [file for file in glob.glob(os.path.join(ORIGINAL_DATASET, '*'), recursive=True) if re.match(r'(.*\\.jpg)', file)]\n",
    "annotations = [file for file in glob.glob(os.path.join(ORIGINAL_DATASET, '*'), recursive=True) if re.match(r'(.*\\.txt)', file)]\n",
    "\n",
    "images = natsorted(images)\n",
    "annotations = natsorted(annotations)\n",
    "\n",
    "len(images), len(annotations)"
   ]
  },
  {
   "cell_type": "code",
   "execution_count": 20,
   "metadata": {},
   "outputs": [
    {
     "name": "stderr",
     "output_type": "stream",
     "text": [
      "8813it [00:19, 462.80it/s]\n"
     ]
    },
    {
     "ename": "KeyboardInterrupt",
     "evalue": "",
     "output_type": "error",
     "traceback": [
      "\u001b[0;31m---------------------------------------------------------------------------\u001b[0m",
      "\u001b[0;31mKeyboardInterrupt\u001b[0m                         Traceback (most recent call last)",
      "Cell \u001b[0;32mIn[20], line 6\u001b[0m\n\u001b[1;32m      3\u001b[0m     \u001b[38;5;28;01mraise\u001b[39;00m \u001b[38;5;167;01mValueError\u001b[39;00m(\u001b[38;5;124m'\u001b[39m\u001b[38;5;124mImages and annotations indices do not match\u001b[39m\u001b[38;5;124m'\u001b[39m)\n\u001b[1;32m      4\u001b[0m stem \u001b[38;5;241m=\u001b[39m Path(image)\u001b[38;5;241m.\u001b[39mstem\n\u001b[0;32m----> 6\u001b[0m T \u001b[38;5;241m=\u001b[39m \u001b[43mdecode_image\u001b[49m\u001b[43m(\u001b[49m\u001b[43mimage\u001b[49m\u001b[43m)\u001b[49m\n\u001b[1;32m      7\u001b[0m _, height, width \u001b[38;5;241m=\u001b[39m T\u001b[38;5;241m.\u001b[39mshape\n\u001b[1;32m     10\u001b[0m \u001b[38;5;28;01mwith\u001b[39;00m \u001b[38;5;28mopen\u001b[39m(annotation) \u001b[38;5;28;01mas\u001b[39;00m file:\n",
      "File \u001b[0;32m~/anaconda3/envs/env_tensorflow/lib/python3.10/site-packages/torchvision/io/image.py:318\u001b[0m, in \u001b[0;36mdecode_image\u001b[0;34m(input, mode, apply_exif_orientation)\u001b[0m\n\u001b[1;32m    316\u001b[0m \u001b[38;5;28;01mif\u001b[39;00m \u001b[38;5;28misinstance\u001b[39m(mode, \u001b[38;5;28mstr\u001b[39m):\n\u001b[1;32m    317\u001b[0m     mode \u001b[38;5;241m=\u001b[39m ImageReadMode[mode\u001b[38;5;241m.\u001b[39mupper()]\n\u001b[0;32m--> 318\u001b[0m output \u001b[38;5;241m=\u001b[39m \u001b[43mtorch\u001b[49m\u001b[38;5;241;43m.\u001b[39;49m\u001b[43mops\u001b[49m\u001b[38;5;241;43m.\u001b[39;49m\u001b[43mimage\u001b[49m\u001b[38;5;241;43m.\u001b[39;49m\u001b[43mdecode_image\u001b[49m\u001b[43m(\u001b[49m\u001b[38;5;28;43minput\u001b[39;49m\u001b[43m,\u001b[49m\u001b[43m \u001b[49m\u001b[43mmode\u001b[49m\u001b[38;5;241;43m.\u001b[39;49m\u001b[43mvalue\u001b[49m\u001b[43m,\u001b[49m\u001b[43m \u001b[49m\u001b[43mapply_exif_orientation\u001b[49m\u001b[43m)\u001b[49m\n\u001b[1;32m    319\u001b[0m \u001b[38;5;28;01mreturn\u001b[39;00m output\n",
      "File \u001b[0;32m~/anaconda3/envs/env_tensorflow/lib/python3.10/site-packages/torch/_ops.py:1116\u001b[0m, in \u001b[0;36mOpOverloadPacket.__call__\u001b[0;34m(self, *args, **kwargs)\u001b[0m\n\u001b[1;32m   1114\u001b[0m \u001b[38;5;28;01mif\u001b[39;00m \u001b[38;5;28mself\u001b[39m\u001b[38;5;241m.\u001b[39m_has_torchbind_op_overload \u001b[38;5;129;01mand\u001b[39;00m _must_dispatch_in_python(args, kwargs):\n\u001b[1;32m   1115\u001b[0m     \u001b[38;5;28;01mreturn\u001b[39;00m _call_overload_packet_from_python(\u001b[38;5;28mself\u001b[39m, args, kwargs)\n\u001b[0;32m-> 1116\u001b[0m \u001b[38;5;28;01mreturn\u001b[39;00m \u001b[38;5;28;43mself\u001b[39;49m\u001b[38;5;241;43m.\u001b[39;49m\u001b[43m_op\u001b[49m\u001b[43m(\u001b[49m\u001b[38;5;241;43m*\u001b[39;49m\u001b[43margs\u001b[49m\u001b[43m,\u001b[49m\u001b[43m \u001b[49m\u001b[38;5;241;43m*\u001b[39;49m\u001b[38;5;241;43m*\u001b[39;49m\u001b[43m(\u001b[49m\u001b[43mkwargs\u001b[49m\u001b[43m \u001b[49m\u001b[38;5;129;43;01mor\u001b[39;49;00m\u001b[43m \u001b[49m\u001b[43m{\u001b[49m\u001b[43m}\u001b[49m\u001b[43m)\u001b[49m\u001b[43m)\u001b[49m\n",
      "\u001b[0;31mKeyboardInterrupt\u001b[0m: "
     ]
    }
   ],
   "source": [
    "for image, annotation in tqdm(zip(images, annotations)):\n",
    "    if Path(image).stem != Path(annotation).stem:\n",
    "        raise ValueError('Images and annotations indices do not match')\n",
    "    stem = Path(image).stem\n",
    "\n",
    "    T = decode_image(image)\n",
    "    _, height, width = T.shape\n",
    "\n",
    "    \n",
    "    with open(annotation) as file:\n",
    "        labels = file.read().splitlines()\n",
    "\n",
    "    bboxes = torch.empty((len(labels), 4), dtype=torch.float32)\n",
    "    for i in range(len(labels)):\n",
    "        if not labels[i]:\n",
    "            continue\n",
    "            \n",
    "        _, bbox_x, bbox_y, bbox_w, bbox_h = labels[i].split(' ')\n",
    "        bbox_x, bbox_y, bbox_w, bbox_h = list(map(float, (bbox_x, bbox_y, bbox_w, bbox_h)))\n",
    "        \n",
    "        bbox_l = bbox_x - bbox_w / 2  # from center coordinate to left\n",
    "        bbox_t = bbox_y - bbox_h / 2  # from center coordinate to top\n",
    "        bbox = torch.as_tensor((bbox_l * width, bbox_t * height, bbox_w * width, bbox_h * height), dtype=torch.int32)\n",
    "        if bbox[2] <= 0 or bbox[3] <= 0 or bbox[2]*bbox[3] <= AREA_THRESHOLD:\n",
    "            continue\n",
    "            \n",
    "        bboxes[i] = bbox\n",
    "        \n",
    "        path = os.path.join(HUMAN, f'{stem}_{i}.jpg')\n",
    "        \n",
    "        if bbox[0] and bbox[1]:\n",
    "            patch = T[:, bbox[1]:bbox[1] + bbox[3], bbox[0]:bbox[0] + bbox[2]]\n",
    "        elif bbox[0]:\n",
    "            patch = T[:, :bbox[3], 0:bbox[0] + bbox[2]]\n",
    "        elif bbox[1]:\n",
    "            patch = T[:, bbox[1]:bbox[1] + bbox[3], :bbox[2]]\n",
    "        else:\n",
    "            patch = T[:, :bbox[3], :bbox[2]]\n",
    "            \n",
    "        write_jpeg(patch, path)\n",
    "\n",
    "    # predict and stuff"
   ]
  },
  {
   "cell_type": "code",
   "execution_count": null,
   "metadata": {},
   "outputs": [],
   "source": []
  }
 ],
 "metadata": {
  "kernelspec": {
   "display_name": "env_tensorflow",
   "language": "python",
   "name": "env_tensorflow"
  },
  "language_info": {
   "codemirror_mode": {
    "name": "ipython",
    "version": 3
   },
   "file_extension": ".py",
   "mimetype": "text/x-python",
   "name": "python",
   "nbconvert_exporter": "python",
   "pygments_lexer": "ipython3",
   "version": "3.10.13"
  }
 },
 "nbformat": 4,
 "nbformat_minor": 2
}
